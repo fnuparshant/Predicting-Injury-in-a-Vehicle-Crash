{
 "cells": [
  {
   "cell_type": "markdown",
   "metadata": {},
   "source": [
    "## Deep Learning Models:"
   ]
  },
  {
   "cell_type": "code",
   "execution_count": 22,
   "metadata": {
    "executionInfo": {
     "elapsed": 165,
     "status": "ok",
     "timestamp": 1630271786642,
     "user": {
      "displayName": "Fnu Parshant",
      "photoUrl": "",
      "userId": "17739193063678431854"
     },
     "user_tz": 240
    },
    "id": "YQMnvlecXXuR"
   },
   "outputs": [],
   "source": [
    "# Importing libraries and packages to use for deep learning\n",
    "import pandas as pd\n",
    "\n",
    "from sklearn.preprocessing import StandardScaler\n",
    "from sklearn.model_selection import train_test_split, GridSearchCV\n",
    "from sklearn import metrics\n",
    "from sklearn.metrics import accuracy_score, mean_squared_error\n",
    "\n",
    "from tensorflow.keras.models import Sequential\n",
    "from tensorflow.keras.layers import Dense, Dropout, GRU\n",
    "from tensorflow.keras.optimizers import Adam\n",
    "from tensorflow.keras.preprocessing.sequence import TimeseriesGenerator\n",
    "from tensorflow.keras.wrappers.scikit_learn import KerasRegressor\n",
    "\n",
    "import matplotlib.pyplot as plt"
   ]
  },
  {
   "cell_type": "code",
   "execution_count": 23,
   "metadata": {
    "executionInfo": {
     "elapsed": 298,
     "status": "ok",
     "timestamp": 1630271787410,
     "user": {
      "displayName": "Fnu Parshant",
      "photoUrl": "",
      "userId": "17739193063678431854"
     },
     "user_tz": 240
    },
    "id": "GVX49e0sXmeX"
   },
   "outputs": [],
   "source": [
    "df = pd.read_csv('./Clean_dataframe/clean_df.csv')"
   ]
  },
  {
   "cell_type": "code",
   "execution_count": 24,
   "metadata": {
    "executionInfo": {
     "elapsed": 114,
     "status": "ok",
     "timestamp": 1630271787524,
     "user": {
      "displayName": "Fnu Parshant",
      "photoUrl": "",
      "userId": "17739193063678431854"
     },
     "user_tz": 240
    },
    "id": "-0rdxU6OXoHO"
   },
   "outputs": [],
   "source": [
    "# Picked top 8 correlated features \n",
    "features = ['Injury_Severity','Age_Drv1','DrugUse_Drv1','Head On','Left Turn','Other','Rear End','Same Direction']\n",
    "X = df[features]\n",
    "y = df['Injury']\n",
    "# Train-test split\n",
    "X_train, X_test, y_train, y_test = train_test_split(X, y, stratify = y, random_state = 42)"
   ]
  },
  {
   "cell_type": "code",
   "execution_count": 25,
   "metadata": {
    "executionInfo": {
     "elapsed": 3,
     "status": "ok",
     "timestamp": 1630271787524,
     "user": {
      "displayName": "Fnu Parshant",
      "photoUrl": "",
      "userId": "17739193063678431854"
     },
     "user_tz": 240
    },
    "id": "wHV6DXkuXqwu"
   },
   "outputs": [],
   "source": [
    "#Scaling is required in NN and RNN\n",
    "from sklearn.preprocessing import StandardScaler\n",
    "sc = StandardScaler()\n",
    "X_train_sc = sc.fit_transform(X_train)\n",
    "X_test_sc = sc.transform(X_test)"
   ]
  },
  {
   "cell_type": "markdown",
   "metadata": {
    "id": "cDZ9POAJbJzr"
   },
   "source": [
    "## Neural Network:"
   ]
  },
  {
   "cell_type": "code",
   "execution_count": 26,
   "metadata": {
    "executionInfo": {
     "elapsed": 3,
     "status": "ok",
     "timestamp": 1630271787524,
     "user": {
      "displayName": "Fnu Parshant",
      "photoUrl": "",
      "userId": "17739193063678431854"
     },
     "user_tz": 240
    },
    "id": "-Lh6Hg6vXs3n"
   },
   "outputs": [],
   "source": [
    "# construct network\n",
    "model = Sequential() \n",
    "model.add(Dense(32, input_shape=(8,), activation='relu')) #first layer\n",
    "model.add(Dense(32, activation='relu'))  #second layer\n",
    "model.add(Dense(1, activation='sigmoid')) #output layer"
   ]
  },
  {
   "cell_type": "code",
   "execution_count": 27,
   "metadata": {
    "executionInfo": {
     "elapsed": 4,
     "status": "ok",
     "timestamp": 1630271787525,
     "user": {
      "displayName": "Fnu Parshant",
      "photoUrl": "",
      "userId": "17739193063678431854"
     },
     "user_tz": 240
    },
    "id": "RaSR4Ak3Xu29"
   },
   "outputs": [],
   "source": [
    "# Compiling model\n",
    "model.compile(loss='binary_crossentropy', metrics=['accuracy'], optimizer='adam')"
   ]
  },
  {
   "cell_type": "code",
   "execution_count": 28,
   "metadata": {
    "executionInfo": {
     "elapsed": 1916,
     "status": "ok",
     "timestamp": 1630271789553,
     "user": {
      "displayName": "Fnu Parshant",
      "photoUrl": "",
      "userId": "17739193063678431854"
     },
     "user_tz": 240
    },
    "id": "zOmDfsLAXw5z"
   },
   "outputs": [],
   "source": [
    "# Model fitting\n",
    "history = model.fit(X_train_sc, y_train, validation_data=(X_test_sc, y_test),  epochs=10, batch_size=512, verbose=0)"
   ]
  },
  {
   "cell_type": "code",
   "execution_count": 29,
   "metadata": {
    "executionInfo": {
     "elapsed": 286,
     "status": "ok",
     "timestamp": 1630271789835,
     "user": {
      "displayName": "Fnu Parshant",
      "photoUrl": "",
      "userId": "17739193063678431854"
     },
     "user_tz": 240
    },
    "id": "yxAxy1GSXyqA"
   },
   "outputs": [],
   "source": [
    "# Predictions\n",
    "test_preds = model.predict(X_test_sc)"
   ]
  },
  {
   "cell_type": "code",
   "execution_count": 30,
   "metadata": {
    "colab": {
     "base_uri": "https://localhost:8080/"
    },
    "executionInfo": {
     "elapsed": 6,
     "status": "ok",
     "timestamp": 1630271789836,
     "user": {
      "displayName": "Fnu Parshant",
      "photoUrl": "",
      "userId": "17739193063678431854"
     },
     "user_tz": 240
    },
    "id": "Jw_g4ze5Yen2",
    "outputId": "93d97745-c432-421d-d242-879dc72e0dd6"
   },
   "outputs": [
    {
     "data": {
      "text/plain": [
       "0.5670672704968946"
      ]
     },
     "execution_count": 30,
     "metadata": {},
     "output_type": "execute_result"
    }
   ],
   "source": [
    "# Check the R-squared\n",
    "metrics.r2_score(y_test, test_preds)"
   ]
  },
  {
   "cell_type": "code",
   "execution_count": 31,
   "metadata": {
    "colab": {
     "base_uri": "https://localhost:8080/",
     "height": 265
    },
    "executionInfo": {
     "elapsed": 175,
     "status": "ok",
     "timestamp": 1630271790147,
     "user": {
      "displayName": "Fnu Parshant",
      "photoUrl": "",
      "userId": "17739193063678431854"
     },
     "user_tz": 240
    },
    "id": "ZujQr_y7YmZc",
    "outputId": "2a4109e0-2954-40d0-ff41-f15430d21819"
   },
   "outputs": [
    {
     "data": {
      "image/png": "[encoded data removed]",
      "text/plain": [
       "<Figure size 432x288 with 1 Axes>"
      ]
     },
     "metadata": {
      "needs_background": "light"
     },
     "output_type": "display_data"
    }
   ],
   "source": [
    "plt.plot(history.history['accuracy'], label='Train accuracy')\n",
    "plt.plot(history.history['val_accuracy'], label='Val accuracy')\n",
    "plt.legend();"
   ]
  },
  {
   "cell_type": "code",
   "execution_count": 32,
   "metadata": {
    "colab": {
     "base_uri": "https://localhost:8080/"
    },
    "executionInfo": {
     "elapsed": 165,
     "status": "ok",
     "timestamp": 1630271790309,
     "user": {
      "displayName": "Fnu Parshant",
      "photoUrl": "",
      "userId": "17739193063678431854"
     },
     "user_tz": 240
    },
    "id": "tciKueGjYzIY",
    "outputId": "0f18491d-58b1-4fd5-8cec-a007337b54cc"
   },
   "outputs": [
    {
     "name": "stdout",
     "output_type": "stream",
     "text": [
      "20/20 [==============================] - 0s 1ms/step - loss: 0.3120 - accuracy: 0.8868\n"
     ]
    },
    {
     "data": {
      "text/plain": [
       "[0.31197503209114075, 0.8867982625961304]"
      ]
     },
     "execution_count": 32,
     "metadata": {},
     "output_type": "execute_result"
    }
   ],
   "source": [
    "# Evaluating model with validation data\n",
    "model.evaluate(X_test_sc, y_test, batch_size=512)"
   ]
  },
  {
   "cell_type": "markdown",
   "metadata": {
    "id": "UjpRRHYRxYsW"
   },
   "source": [
    "## Recurrent Neural Network:"
   ]
  },
  {
   "cell_type": "code",
   "execution_count": 36,
   "metadata": {
    "executionInfo": {
     "elapsed": 254,
     "status": "ok",
     "timestamp": 1630271868121,
     "user": {
      "displayName": "Fnu Parshant",
      "photoUrl": "",
      "userId": "17739193063678431854"
     },
     "user_tz": 240
    },
    "id": "1pKD9hk4xdPP"
   },
   "outputs": [],
   "source": [
    "# Picked top 8 correlated features \n",
    "features = ['Injury_Severity','Age_Drv1','DrugUse_Drv1','Head On','Left Turn','Other','Rear End','Same Direction']\n",
    "X = df[features]\n",
    "y = df[['Injury']].values\n",
    "# Train-test split\n",
    "X_train, X_test, y_train, y_test = train_test_split(X, y, stratify = y, random_state = 42)"
   ]
  },
  {
   "cell_type": "code",
   "execution_count": 37,
   "metadata": {
    "executionInfo": {
     "elapsed": 119,
     "status": "ok",
     "timestamp": 1630271883483,
     "user": {
      "displayName": "Fnu Parshant",
      "photoUrl": "",
      "userId": "17739193063678431854"
     },
     "user_tz": 240
    },
    "id": "iDtwFcb2xras"
   },
   "outputs": [],
   "source": [
    "#Scaling is required in NN and RNN\n",
    "ss = StandardScaler()\n",
    "X_train_sc = ss.fit_transform(X_train)\n",
    "X_test_sc = ss.transform(X_test)"
   ]
  },
  {
   "cell_type": "code",
   "execution_count": 38,
   "metadata": {
    "executionInfo": {
     "elapsed": 116,
     "status": "ok",
     "timestamp": 1630271885019,
     "user": {
      "displayName": "Fnu Parshant",
      "photoUrl": "",
      "userId": "17739193063678431854"
     },
     "user_tz": 240
    },
    "id": "Axa-gujCvNzE"
   },
   "outputs": [],
   "source": [
    "train_sequences = TimeseriesGenerator(X_train_sc, y_train, length=3, batch_size=64)"
   ]
  },
  {
   "cell_type": "code",
   "execution_count": 40,
   "metadata": {
    "executionInfo": {
     "elapsed": 124,
     "status": "ok",
     "timestamp": 1630271924240,
     "user": {
      "displayName": "Fnu Parshant",
      "photoUrl": "",
      "userId": "17739193063678431854"
     },
     "user_tz": 240
    },
    "id": "Qu6rsfCBw3Mk"
   },
   "outputs": [],
   "source": [
    "batch_x, batch_y = train_sequences[0]"
   ]
  },
  {
   "cell_type": "code",
   "execution_count": 41,
   "metadata": {
    "colab": {
     "base_uri": "https://localhost:8080/"
    },
    "executionInfo": {
     "elapsed": 124,
     "status": "ok",
     "timestamp": 1630271938417,
     "user": {
      "displayName": "Fnu Parshant",
      "photoUrl": "",
      "userId": "17739193063678431854"
     },
     "user_tz": 240
    },
    "id": "rnwk07bgwoiJ",
    "outputId": "3d56b673-9af0-4ca4-8239-ab80b88c68e5"
   },
   "outputs": [
    {
     "data": {
      "text/plain": [
       "(64, 3, 8)"
      ]
     },
     "execution_count": 41,
     "metadata": {},
     "output_type": "execute_result"
    }
   ],
   "source": [
    "batch_x.shape"
   ]
  },
  {
   "cell_type": "code",
   "execution_count": 42,
   "metadata": {
    "colab": {
     "base_uri": "https://localhost:8080/"
    },
    "executionInfo": {
     "elapsed": 114,
     "status": "ok",
     "timestamp": 1630271942912,
     "user": {
      "displayName": "Fnu Parshant",
      "photoUrl": "",
      "userId": "17739193063678431854"
     },
     "user_tz": 240
    },
    "id": "qPTsTfTdx55r",
    "outputId": "32a0ec26-6af0-4ff4-99a1-ee21a4768f16"
   },
   "outputs": [
    {
     "data": {
      "text/plain": [
       "(64, 1)"
      ]
     },
     "execution_count": 42,
     "metadata": {},
     "output_type": "execute_result"
    }
   ],
   "source": [
    "batch_y.shape"
   ]
  },
  {
   "cell_type": "code",
   "execution_count": 43,
   "metadata": {
    "colab": {
     "base_uri": "https://localhost:8080/"
    },
    "executionInfo": {
     "elapsed": 112,
     "status": "ok",
     "timestamp": 1630271953341,
     "user": {
      "displayName": "Fnu Parshant",
      "photoUrl": "",
      "userId": "17739193063678431854"
     },
     "user_tz": 240
    },
    "id": "BUiUJat1x6_9",
    "outputId": "a52fdcbf-afaf-43e7-8fc6-933b54a6ab55"
   },
   "outputs": [
    {
     "data": {
      "text/plain": [
       "array([[-0.5056398 ,  1.83692998, -0.08830936, -0.42051916, -0.49055361,\n",
       "        -0.40712733, -0.79035922,  2.59735195],\n",
       "       [ 1.97769244,  0.01484461, -0.08830936, -0.42051916,  2.03851319,\n",
       "        -0.40712733, -0.79035922, -0.38500751],\n",
       "       [-0.5056398 , -1.0532744 , -0.08830936, -0.42051916, -0.49055361,\n",
       "        -0.40712733,  1.26524746, -0.38500751]])"
      ]
     },
     "execution_count": 43,
     "metadata": {},
     "output_type": "execute_result"
    }
   ],
   "source": [
    "batch_x[0]"
   ]
  },
  {
   "cell_type": "code",
   "execution_count": 45,
   "metadata": {
    "executionInfo": {
     "elapsed": 135,
     "status": "ok",
     "timestamp": 1630271969518,
     "user": {
      "displayName": "Fnu Parshant",
      "photoUrl": "",
      "userId": "17739193063678431854"
     },
     "user_tz": 240
    },
    "id": "7YgKBCcjx9jB"
   },
   "outputs": [],
   "source": [
    "test_sequences = TimeseriesGenerator(X_test_sc, y_test, length=3, batch_size=64)"
   ]
  },
  {
   "cell_type": "code",
   "execution_count": 46,
   "metadata": {
    "colab": {
     "base_uri": "https://localhost:8080/"
    },
    "executionInfo": {
     "elapsed": 101,
     "status": "ok",
     "timestamp": 1630271984334,
     "user": {
      "displayName": "Fnu Parshant",
      "photoUrl": "",
      "userId": "17739193063678431854"
     },
     "user_tz": 240
    },
    "id": "2fouesCcyAlv",
    "outputId": "49c5f80f-f4bd-47b5-c371-a98c32e80794"
   },
   "outputs": [
    {
     "data": {
      "text/plain": [
       "(64, 3, 8)"
      ]
     },
     "execution_count": 46,
     "metadata": {},
     "output_type": "execute_result"
    }
   ],
   "source": [
    "train_sequences[0][0].shape"
   ]
  },
  {
   "cell_type": "code",
   "execution_count": 47,
   "metadata": {
    "executionInfo": {
     "elapsed": 148,
     "status": "ok",
     "timestamp": 1630271995400,
     "user": {
      "displayName": "Fnu Parshant",
      "photoUrl": "",
      "userId": "17739193063678431854"
     },
     "user_tz": 240
    },
    "id": "e68DCTV0yFHU"
   },
   "outputs": [],
   "source": [
    "input_shape = train_sequences[0][0][0].shape"
   ]
  },
  {
   "cell_type": "code",
   "execution_count": 48,
   "metadata": {
    "executionInfo": {
     "elapsed": 613,
     "status": "ok",
     "timestamp": 1630272014604,
     "user": {
      "displayName": "Fnu Parshant",
      "photoUrl": "",
      "userId": "17739193063678431854"
     },
     "user_tz": 240
    },
    "id": "sOKpAFERyHza"
   },
   "outputs": [],
   "source": [
    "model = Sequential(). #Constructing the model\n",
    "#first layer\n",
    "model.add(GRU(8, input_shape=input_shape, return_sequences=True)) # True if next layer is RNN\n",
    "#second layer\n",
    "model.add(GRU(8, return_sequences=False)) # False if next layer is Dense\n",
    "#third layer\n",
    "model.add(Dense(4, activation='relu'))\n",
    "#Output layer\n",
    "model.add(Dense(1, activation='sigmoid'))"
   ]
  },
  {
   "cell_type": "code",
   "execution_count": 49,
   "metadata": {
    "colab": {
     "base_uri": "https://localhost:8080/"
    },
    "executionInfo": {
     "elapsed": 208138,
     "status": "ok",
     "timestamp": 1630272238158,
     "user": {
      "displayName": "Fnu Parshant",
      "photoUrl": "",
      "userId": "17739193063678431854"
     },
     "user_tz": 240
    },
    "id": "JXgh2wXdyMYG",
    "outputId": "6732d5f0-74f3-4833-9e9e-62d4678ee67f"
   },
   "outputs": [
    {
     "name": "stderr",
     "output_type": "stream",
     "text": [
      "/usr/local/lib/python3.7/dist-packages/keras/optimizer_v2/optimizer_v2.py:356: UserWarning: The `lr` argument is deprecated, use `learning_rate` instead.\n",
      "  \"The `lr` argument is deprecated, use `learning_rate` instead.\")\n"
     ]
    }
   ],
   "source": [
    "#Model Compiling\n",
    "model.compile(optimizer=Adam(lr=.0005), loss='bce', metrics=['acc'])\n",
    "#Model Fitting\n",
    "history = model.fit(train_sequences, validation_data=test_sequences, epochs=50, verbose=0)"
   ]
  },
  {
   "cell_type": "code",
   "execution_count": 50,
   "metadata": {
    "colab": {
     "base_uri": "https://localhost:8080/",
     "height": 265
    },
    "executionInfo": {
     "elapsed": 342,
     "status": "ok",
     "timestamp": 1630272244754,
     "user": {
      "displayName": "Fnu Parshant",
      "photoUrl": "",
      "userId": "17739193063678431854"
     },
     "user_tz": 240
    },
    "id": "5XQsW3ahyQSc",
    "outputId": "0fcc5302-a751-4744-ac1d-e90b67e27b07"
   },
   "outputs": [
    {
     "data": {
      "image/png": "[encoded data removed]",
      "text/plain": [
       "<Figure size 432x288 with 1 Axes>"
      ]
     },
     "metadata": {
      "needs_background": "light"
     },
     "output_type": "display_data"
    }
   ],
   "source": [
    "plt.plot(history.history['acc'], label='Train accuracy')\n",
    "plt.plot(history.history['val_acc'], label='Test accuracy')\n",
    "plt.legend();"
   ]
  },
  {
   "cell_type": "markdown",
   "metadata": {
    "id": "rc-wmZHsz2bU"
   },
   "source": [
    "- **Note:** As we can see from both the graphs that NN and RNN models did not give us better accuracy than **Ada Boosting** model. So, we will stick to **Ada Boosting** model."
   ]
  },
  {
   "cell_type": "code",
   "execution_count": null,
   "metadata": {
    "id": "L5Ph7ZItzjGm"
   },
   "outputs": [],
   "source": []
  }
 ],
 "metadata": {
  "accelerator": "TPU",
  "colab": {
   "authorship_tag": "ABX9TyPjodQvmi5AmmruJcd9vV3X",
   "collapsed_sections": [],
   "name": "NN_&_RNN_Deep_Learning.ipynb",
   "provenance": []
  },
  "kernelspec": {
   "display_name": "Python 3",
   "language": "python",
   "name": "python3"
  },
  "language_info": {
   "codemirror_mode": {
    "name": "ipython",
    "version": 3
   },
   "file_extension": ".py",
   "mimetype": "text/x-python",
   "name": "python",
   "nbconvert_exporter": "python",
   "pygments_lexer": "ipython3",
   "version": "3.8.8"
  }
 },
 "nbformat": 4,
 "nbformat_minor": 4
}
