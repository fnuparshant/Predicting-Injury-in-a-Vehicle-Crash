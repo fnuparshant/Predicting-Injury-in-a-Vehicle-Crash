{
 "cells": [
  {
   "cell_type": "markdown",
   "id": "e7030548-ca3b-44b7-8169-1d84569db1ac",
   "metadata": {},
   "source": [
    "## Conclusions:"
   ]
  },
  {
   "cell_type": "markdown",
   "id": "4753a30d-aa4b-4306-be0a-4454a6004f03",
   "metadata": {},
   "source": [
    " _In this project, my main objective was to create a model that could predict if a car-crash involves injury or not. Doing this, I was also able to see what different factors lead to more crashes. Below are some of findings (or conclusions) from this project:-_\n",
    "\n",
    "\n",
    "1. Our graph of forecasting the total number of injuries in a month was pretty accurate when compared with test data.\n",
    "2. The Heatmap showed that 'Injury_Severity' is the most strongly positively correlated (0.74) with Total_Injuries. Alcohol & Drug_Use among both drivers are also somewhat positively correlated to Total_Injuries, and Age_Drv1 is the highest negatively correlated feature to Total_Injuries.\n",
    "3. Front-to-side, left-turn, single-vehicle, head-on, and rear-end were the different collision manners that increases the chance of injury in a crash.\n",
    "4. Most of the collisions were vehicle to vehicle, very few crash reports on the vehicle to pedestrian/bicycle.\n",
    "5. Gender of drivers and Travelling direction does not affect the number of Total injuries.\n",
    "6. Rural Rd (4145), Baseline Rd (3554), University Dr (3217), Broadway Rd (3142), & McClintock Dr (2594) are the top 5 roads in Tempe where most of the crashes occured from 2012 to 2021.\n",
    "7. Rural Rd (1984), Southern Ave (1406), Broadway Rd (1395), Priest Dr (1384), McClintock Dr (1365) are the top 5 nearest intersecting streets/roads in Tempe where most of the crashes occured from 2012 to 2021.\n",
    "8. Going Straight Ahead, Making Left Turn, Changing Lanes, Making Right Turn, and Slowing In Trafficway were the top 5 last actions that the drivers performed right before the crash.\n",
    "9. Speed too fast for conditions, Failed to yield right of way, Unsafe lane change, followed too closely, disregarded traffic signal, No improper action were some of the main reasons that contributed in the crashes.\n",
    "10. Ada Boosting was the best model with the highest accuracy score (89%)."
   ]
  },
  {
   "cell_type": "markdown",
   "id": "41b9e337-02fd-41a2-94d8-7bf469a46c94",
   "metadata": {},
   "source": [
    "## Recommendations:"
   ]
  },
  {
   "cell_type": "markdown",
   "id": "779bec9d-9702-4a88-8da3-eb6ff29f4de8",
   "metadata": {},
   "source": [
    "1. As we saw that Alcohol and Drug use are strong positively correlated to number of injuries so we should start imposing higher fines and points on drving license so that people could understand how important it is to be in a sober condition while driving.\n",
    "2. In points 6 and 7 of conclusions we saw the top 5 roads and nearest intersections where most of the crashes in Tempe city occurred from 2012 to 2021. We should definitely look into those roads and intersections and find out why there are more crashes. I think installing video cameras at those intersections might also help.\n",
    "3. In points 3, 8 and 9 of conclusions we saw most common collision manners and traffic violations that caused crashes. So we can definitely emphasize them while giving driving lessons to new drivers (or even to people renewing their license), and we can also offer free driving online lessons on a particular website so that anyone can learn from it.\n",
    "4. As Ada Boosting model turned out to be the most accurate one, so we can definitely use it to predict if a crash involved injury or not. \n",
    "5. Our model will significantly help the insurance companies predict the number of injuries in a crash and investigate the incorrect predictions to check for false injury claims.\n",
    "6. With all the above steps, we can help the [Arizona Department of Transportation (ADOT)](https://azdot.gov/about-adot) minimize crashes and contribute to the [Vision Zero](https://en.wikipedia.org/wiki/Vision_Zero) initiative."
   ]
  }
 ],
 "metadata": {
  "kernelspec": {
   "display_name": "Python 3",
   "language": "python",
   "name": "python3"
  },
  "language_info": {
   "codemirror_mode": {
    "name": "ipython",
    "version": 3
   },
   "file_extension": ".py",
   "mimetype": "text/x-python",
   "name": "python",
   "nbconvert_exporter": "python",
   "pygments_lexer": "ipython3",
   "version": "3.8.8"
  }
 },
 "nbformat": 4,
 "nbformat_minor": 5
}
