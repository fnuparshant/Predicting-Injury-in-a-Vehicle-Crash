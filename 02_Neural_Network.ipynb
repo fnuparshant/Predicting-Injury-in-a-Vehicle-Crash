{
 "cells": [
  {
   "cell_type": "code",
   "execution_count": 230,
   "metadata": {
    "executionInfo": {
     "elapsed": 118,
     "status": "ok",
     "timestamp": 1630621670184,
     "user": {
      "displayName": "Fnu Parshant",
      "photoUrl": "",
      "userId": "17739193063678431854"
     },
     "user_tz": 240
    },
    "id": "YQMnvlecXXuR"
   },
   "outputs": [],
   "source": [
    "# Importing libraries and packages to use for deep learning\n",
    "import pandas as pd\n",
    "\n",
    "from sklearn.preprocessing import StandardScaler\n",
    "from sklearn.model_selection import train_test_split, GridSearchCV\n",
    "from sklearn import metrics\n",
    "from sklearn.metrics import accuracy_score, mean_squared_error,f1_score,recall_score\n",
    "\n",
    "from tensorflow.keras.models import Sequential\n",
    "from tensorflow.keras.layers import Dense, Dropout, GRU\n",
    "from tensorflow.keras.optimizers import Adam\n",
    "from tensorflow.keras.preprocessing.sequence import TimeseriesGenerator\n",
    "from tensorflow.keras.wrappers.scikit_learn import KerasRegressor\n",
    "import tensorflow as tf\n",
    "\n",
    "import matplotlib.pyplot as plt\n",
    "import warnings\n",
    "warnings.filterwarnings(\"ignore\")"
   ]
  },
  {
   "cell_type": "code",
   "execution_count": 231,
   "metadata": {
    "executionInfo": {
     "elapsed": 345,
     "status": "ok",
     "timestamp": 1630621670896,
     "user": {
      "displayName": "Fnu Parshant",
      "photoUrl": "",
      "userId": "17739193063678431854"
     },
     "user_tz": 240
    },
    "id": "GVX49e0sXmeX"
   },
   "outputs": [],
   "source": [
    "df = pd.read_csv('./Clean_dataframe/clean_df.csv')"
   ]
  },
  {
   "cell_type": "code",
   "execution_count": 244,
   "metadata": {
    "executionInfo": {
     "elapsed": 110,
     "status": "ok",
     "timestamp": 1630621700246,
     "user": {
      "displayName": "Fnu Parshant",
      "photoUrl": "",
      "userId": "17739193063678431854"
     },
     "user_tz": 240
    },
    "id": "-0rdxU6OXoHO"
   },
   "outputs": [],
   "source": [
    "# Picked top 12 correlated features with y\n",
    "features = ['Injury_Severity','AlcoholUse_Drv1','AlcoholUse_Drv2','Age_Drv1','DrugUse_Drv1','Head_On','Left_Turn',\n",
    "            'Other','Rear_End','Same_Direction','Not_Clear_Weather','Not_Dry_Surface']\n",
    "X = df[features]\n",
    "y = df['Injury']\n",
    "# Train-test split\n",
    "X_train, X_test, y_train, y_test = train_test_split(X, y, stratify = y, random_state = 42)"
   ]
  },
  {
   "cell_type": "code",
   "execution_count": 245,
   "metadata": {
    "executionInfo": {
     "elapsed": 1,
     "status": "ok",
     "timestamp": 1630621700516,
     "user": {
      "displayName": "Fnu Parshant",
      "photoUrl": "",
      "userId": "17739193063678431854"
     },
     "user_tz": 240
    },
    "id": "wHV6DXkuXqwu"
   },
   "outputs": [],
   "source": [
    "#Scaling is required in NN and RNN\n",
    "from sklearn.preprocessing import StandardScaler\n",
    "sc = StandardScaler()\n",
    "X_train_sc = sc.fit_transform(X_train)\n",
    "X_test_sc = sc.transform(X_test)"
   ]
  },
  {
   "cell_type": "markdown",
   "metadata": {
    "id": "cDZ9POAJbJzr"
   },
   "source": [
    "## Neural Network:"
   ]
  },
  {
   "cell_type": "code",
   "execution_count": 246,
   "metadata": {
    "executionInfo": {
     "elapsed": 124,
     "status": "ok",
     "timestamp": 1630621700939,
     "user": {
      "displayName": "Fnu Parshant",
      "photoUrl": "",
      "userId": "17739193063678431854"
     },
     "user_tz": 240
    },
    "id": "-Lh6Hg6vXs3n"
   },
   "outputs": [],
   "source": [
    "# construct network\n",
    "model = Sequential() \n",
    "model.add(Dense(32, input_shape=(12,), activation='relu')) #first layer\n",
    "model.add(Dense(32, activation='relu'))  #second layer\n",
    "model.add(Dense(1, activation='sigmoid')) #output layer"
   ]
  },
  {
   "cell_type": "code",
   "execution_count": 247,
   "metadata": {
    "executionInfo": {
     "elapsed": 1,
     "status": "ok",
     "timestamp": 1630621701029,
     "user": {
      "displayName": "Fnu Parshant",
      "photoUrl": "",
      "userId": "17739193063678431854"
     },
     "user_tz": 240
    },
    "id": "RaSR4Ak3Xu29"
   },
   "outputs": [],
   "source": [
    "# Compiling model\n",
    "model.compile(loss='binary_crossentropy', metrics=['accuracy'], optimizer='adam')"
   ]
  },
  {
   "cell_type": "code",
   "execution_count": 248,
   "metadata": {
    "executionInfo": {
     "elapsed": 2282,
     "status": "ok",
     "timestamp": 1630621703515,
     "user": {
      "displayName": "Fnu Parshant",
      "photoUrl": "",
      "userId": "17739193063678431854"
     },
     "user_tz": 240
    },
    "id": "zOmDfsLAXw5z"
   },
   "outputs": [],
   "source": [
    "# Model fitting\n",
    "history = model.fit(X_train_sc, y_train, validation_data=(X_test_sc, y_test),  epochs=10, batch_size=512, verbose=0)"
   ]
  },
  {
   "cell_type": "code",
   "execution_count": 249,
   "metadata": {
    "colab": {
     "base_uri": "https://localhost:8080/"
    },
    "executionInfo": {
     "elapsed": 385,
     "status": "ok",
     "timestamp": 1630621703897,
     "user": {
      "displayName": "Fnu Parshant",
      "photoUrl": "",
      "userId": "17739193063678431854"
     },
     "user_tz": 240
    },
    "id": "yxAxy1GSXyqA",
    "outputId": "cde80a3c-d8e1-48c7-b995-51ec5b6a53b7"
   },
   "outputs": [
    {
     "data": {
      "text/plain": [
       "array([[0.09744501],\n",
       "       [0.10186484],\n",
       "       [0.0872924 ],\n",
       "       ...,\n",
       "       [0.18965551],\n",
       "       [0.21153742],\n",
       "       [0.08540174]], dtype=float32)"
      ]
     },
     "execution_count": 249,
     "metadata": {},
     "output_type": "execute_result"
    }
   ],
   "source": [
    "# Predictions\n",
    "test_preds = model.predict(X_test_sc)\n",
    "test_preds"
   ]
  },
  {
   "cell_type": "code",
   "execution_count": 250,
   "metadata": {
    "colab": {
     "base_uri": "https://localhost:8080/"
    },
    "executionInfo": {
     "elapsed": 7,
     "status": "ok",
     "timestamp": 1630621703897,
     "user": {
      "displayName": "Fnu Parshant",
      "photoUrl": "",
      "userId": "17739193063678431854"
     },
     "user_tz": 240
    },
    "id": "2QVgjqS1g1xJ",
    "outputId": "cdadeaef-6204-4fc1-ff2e-742c92064454"
   },
   "outputs": [
    {
     "data": {
      "text/plain": [
       "(9779, 1)"
      ]
     },
     "execution_count": 250,
     "metadata": {},
     "output_type": "execute_result"
    }
   ],
   "source": [
    "test_preds.shape"
   ]
  },
  {
   "cell_type": "code",
   "execution_count": 251,
   "metadata": {
    "colab": {
     "base_uri": "https://localhost:8080/"
    },
    "executionInfo": {
     "elapsed": 6,
     "status": "ok",
     "timestamp": 1630621703899,
     "user": {
      "displayName": "Fnu Parshant",
      "photoUrl": "",
      "userId": "17739193063678431854"
     },
     "user_tz": 240
    },
    "id": "RClX-qKvdeFQ",
    "outputId": "990c52ce-8b5b-49cf-9414-e026615b22a4"
   },
   "outputs": [
    {
     "data": {
      "text/plain": [
       "(9779,)"
      ]
     },
     "execution_count": 251,
     "metadata": {},
     "output_type": "execute_result"
    }
   ],
   "source": [
    "y_test.shape"
   ]
  },
  {
   "cell_type": "code",
   "execution_count": 252,
   "metadata": {
    "colab": {
     "base_uri": "https://localhost:8080/"
    },
    "executionInfo": {
     "elapsed": 128,
     "status": "ok",
     "timestamp": 1630621704022,
     "user": {
      "displayName": "Fnu Parshant",
      "photoUrl": "",
      "userId": "17739193063678431854"
     },
     "user_tz": 240
    },
    "id": "rFdGQr59dH9L",
    "outputId": "1dc3a6ae-8a11-4728-9eb1-0d37d3bb3ad6"
   },
   "outputs": [
    {
     "data": {
      "text/plain": [
       "array([[6698,   16],\n",
       "       [1090, 1975]])"
      ]
     },
     "execution_count": 252,
     "metadata": {},
     "output_type": "execute_result"
    }
   ],
   "source": [
    "from sklearn.metrics import confusion_matrix\n",
    "confusion_matrix(y_test, test_preds.round())\n"
   ]
  },
  {
   "cell_type": "code",
   "execution_count": 253,
   "metadata": {
    "colab": {
     "base_uri": "https://localhost:8080/",
     "height": 297
    },
    "executionInfo": {
     "elapsed": 356,
     "status": "ok",
     "timestamp": 1630621704377,
     "user": {
      "displayName": "Fnu Parshant",
      "photoUrl": "",
      "userId": "17739193063678431854"
     },
     "user_tz": 240
    },
    "id": "p1qwaSbmeBbo",
    "outputId": "aac350ac-4c9d-4532-c776-0c6557639eb9"
   },
   "outputs": [
    {
     "name": "stdout",
     "output_type": "stream",
     "text": [
      "NN Model Sensitivity score:  0.6443719412724307\n"
     ]
    },
    {
     "data": {
      "image/png": "[encoded data removed]",
      "text/plain": [
       "<Figure size 432x288 with 2 Axes>"
      ]
     },
     "metadata": {
      "needs_background": "light"
     },
     "output_type": "display_data"
    }
   ],
   "source": [
    "from sklearn.metrics import confusion_matrix, ConfusionMatrixDisplay\n",
    "logistic_cm = confusion_matrix(y_test, test_preds.round())\n",
    "disp = ConfusionMatrixDisplay(logistic_cm, display_labels=['No_Injury', 'Involves_Injury']);\n",
    "disp.plot();\n",
    "#Save TN/FP/FN/TP values.\n",
    "tn, fp, fn, tp = confusion_matrix(y_test, test_preds.round()).ravel()\n",
    "# By hand\n",
    "sensitivity = tp / (tp + fn)\n",
    "print('NN Model Sensitivity score: ',sensitivity)"
   ]
  },
  {
   "cell_type": "markdown",
   "metadata": {
    "id": "4FPf1GCloNPh"
   },
   "source": [
    "- Here we can see that NN model didn't do better than ADA boosting model, so we will stick with ADA boosting model."
   ]
  }
 ],
 "metadata": {
  "accelerator": "TPU",
  "colab": {
   "authorship_tag": "ABX9TyMINsgSXznHX/lka1/4QyWK",
   "collapsed_sections": [],
   "name": "02_Neural_Network.ipynb",
   "provenance": []
  },
  "kernelspec": {
   "display_name": "Python 3",
   "language": "python",
   "name": "python3"
  },
  "language_info": {
   "codemirror_mode": {
    "name": "ipython",
    "version": 3
   },
   "file_extension": ".py",
   "mimetype": "text/x-python",
   "name": "python",
   "nbconvert_exporter": "python",
   "pygments_lexer": "ipython3",
   "version": "3.8.8"
  }
 },
 "nbformat": 4,
 "nbformat_minor": 4
}
